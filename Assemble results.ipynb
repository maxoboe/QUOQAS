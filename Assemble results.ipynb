{
 "cells": [
  {
   "cell_type": "code",
   "execution_count": 12,
   "metadata": {},
   "outputs": [],
   "source": [
    "import csv\n",
    "from os import listdir\n",
    "\n",
    "with open('summarized_results.csv', 'w+', newline=\"\") as csvfile:\n",
    "    fieldnames = ['Test name','R alone', 'SE alone', 'combined', 'R train SE test', 'SE train R test']\n",
    "    writer = csv.DictWriter(csvfile, fieldnames=fieldnames)\n",
    "    writer.writeheader()\n",
    "    for filename in listdir('results'):\n",
    "        test_name = filename.split('.csv')[0]\n",
    "        with open('results/' + filename, 'r') as infile:\n",
    "            reader = csv.reader(infile)\n",
    "            next(reader) # Header line\n",
    "            combined = float(next(reader)[1])\n",
    "            r_train_se_test = float(next(reader)[1])\n",
    "            se_train_r_test = float(next(reader)[1])\n",
    "            se_alone = float(next(reader)[1])\n",
    "            r_alone = float(next(reader)[1])\n",
    "        writer.writerow({'Test name':test_name,'R alone': r_alone, \n",
    "                         'SE alone':se_alone, 'combined':combined,\n",
    "                         'R train SE test':r_train_se_test, 'SE train R test':se_train_r_test})"
   ]
  },
  {
   "cell_type": "code",
   "execution_count": null,
   "metadata": {},
   "outputs": [],
   "source": []
  }
 ],
 "metadata": {
  "kernelspec": {
   "display_name": "Python 3",
   "language": "python",
   "name": "python3"
  },
  "language_info": {
   "codemirror_mode": {
    "name": "ipython",
    "version": 3
   },
   "file_extension": ".py",
   "mimetype": "text/x-python",
   "name": "python",
   "nbconvert_exporter": "python",
   "pygments_lexer": "ipython3",
   "version": "3.6.4"
  }
 },
 "nbformat": 4,
 "nbformat_minor": 2
}
