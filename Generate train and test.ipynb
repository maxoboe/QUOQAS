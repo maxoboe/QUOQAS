{
 "cells": [
  {
   "cell_type": "code",
   "execution_count": 1,
   "metadata": {},
   "outputs": [],
   "source": [
    "# Split the corpus by the given inputs, downselecting randomly to equal sizes\n",
    "import sqlite3\n",
    "import pandas\n",
    "con = sqlite3.connect('Reddit/Reddit.db')\n",
    "cur = con.cursor()\n",
    "\n",
    "# Make all good, all bad sets (both by answer and by view)\n",
    "reddit_answer_good = pandas.read_sql('select * from data where answer_good is 1', con)\n",
    "reddit_answer_bad = pandas.read_sql('select * from data where answer_bad is 1', con)\n",
    "con.close()\n",
    "reddit_max_size = min(len(reddit_answer_good), len(reddit_answer_bad))"
   ]
  },
  {
   "cell_type": "code",
   "execution_count": 9,
   "metadata": {},
   "outputs": [],
   "source": [
    "# Split the corpus by the given inputs, downselecting randomly to equal sizes\n",
    "import sqlite3\n",
    "import pandas\n",
    "con = sqlite3.connect('StackOverflow/SO.db')\n",
    "cur = con.cursor()\n",
    "\n",
    "# Make all good, all bad sets (both by answer and by view)\n",
    "so_answer_good = pandas.read_sql('select * from data where answer_good is 1', con)\n",
    "so_answer_bad = pandas.read_sql('select * from data where answer_bad is 1', con)\n",
    "con.close()\n",
    "so_max_size = min(len(so_answer_good), len(so_answer_bad))"
   ]
  },
  {
   "cell_type": "code",
   "execution_count": 10,
   "metadata": {},
   "outputs": [
    {
     "name": "stdout",
     "output_type": "stream",
     "text": [
      "18791\n"
     ]
    }
   ],
   "source": [
    "max_size = min(so_max_size, reddit_max_size)\n",
    "reddit_good_sample = reddit_answer_good.sample(n=max_size)\n",
    "reddit_bad_sample = reddit_answer_bad.sample(n=max_size)\n",
    "so_good_sample = so_answer_good.sample(n=max_size)\n",
    "so_bad_sample = so_answer_bad.sample(n=max_size)\n",
    "print(max_size)"
   ]
  },
  {
   "cell_type": "code",
   "execution_count": 14,
   "metadata": {},
   "outputs": [],
   "source": [
    "from sklearn.model_selection import train_test_split\n",
    "train, test = train_test_split(pandas.concat([so_good_sample, so_bad_sample, \n",
    "                                              reddit_good_sample, reddit_bad_sample]), test_size=0.5)\n",
    "import pickle\n",
    "with open('combined_train_test.p', 'wb') as pfile:\n",
    "    pickle.dump((train, test), pfile)"
   ]
  },
  {
   "cell_type": "code",
   "execution_count": 15,
   "metadata": {},
   "outputs": [],
   "source": [
    "with open('r_train_so_test.p', 'wb') as pfile:\n",
    "    train = pandas.concat([reddit_good_sample, reddit_bad_sample])\n",
    "    test = pandas.concat([so_good_sample, so_bad_sample])\n",
    "    pickle.dump((train, test), pfile)\n",
    "with open('so_train_r_test.p', 'wb') as pfile:\n",
    "    test = pandas.concat([reddit_good_sample, reddit_bad_sample])\n",
    "    train = pandas.concat([so_good_sample, so_bad_sample])\n",
    "    pickle.dump((train, test), pfile)"
   ]
  },
  {
   "cell_type": "code",
   "execution_count": 16,
   "metadata": {},
   "outputs": [
    {
     "name": "stdout",
     "output_type": "stream",
     "text": [
      "37582\n",
      "37582\n",
      "37582\n",
      "37582\n",
      "37582\n",
      "37582\n",
      "18791\n",
      "18791\n",
      "42397\n",
      "42397\n"
     ]
    }
   ],
   "source": [
    "filenames = ['combined_train_test.p', 'r_train_so_test.p', 'so_train_r_test.p',\n",
    "            'StackOverflow/answer_data.p', 'Reddit/answer_data.p']\n",
    "for filename in filenames:\n",
    "    with open(filename, 'rb') as pfile:\n",
    "        train, test = pickle.load(pfile)\n",
    "    print(len(train))\n",
    "    print(len(test))\n",
    "    train = train.assign(index = train.index.values)\n",
    "    test = test.assign(index = train.index.values)\n",
    "    with open(filename, 'wb') as pfile:\n",
    "        pickle.dump((train, test), pfile)"
   ]
  },
  {
   "cell_type": "code",
   "execution_count": null,
   "metadata": {},
   "outputs": [],
   "source": []
  }
 ],
 "metadata": {
  "kernelspec": {
   "display_name": "Python 3",
   "language": "python",
   "name": "python3"
  },
  "language_info": {
   "codemirror_mode": {
    "name": "ipython",
    "version": 3
   },
   "file_extension": ".py",
   "mimetype": "text/x-python",
   "name": "python",
   "nbconvert_exporter": "python",
   "pygments_lexer": "ipython3",
   "version": "3.6.4"
  }
 },
 "nbformat": 4,
 "nbformat_minor": 2
}
