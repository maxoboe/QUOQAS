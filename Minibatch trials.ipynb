{
 "cells": [
  {
   "cell_type": "code",
   "execution_count": 1,
   "metadata": {},
   "outputs": [],
   "source": [
    "from sklearn import linear_model\n",
    "import numpy as np\n",
    "from collections import namedtuple\n",
    "tokenized_row = namedtuple('tokenized_row', 'sent_count sentences word_count words')\n",
    "from sklearn.feature_extraction.text import CountVectorizer\n",
    "import pickle\n",
    "import csv\n",
    "\n",
    "def test_batch(test_regressors, test_targets, sgd, successes, false_pos, false_neg):\n",
    "    test_predictions = sgd.predict(test_regressors)\n",
    "    rounded_predictions = np.rint(test_predictions)\n",
    "    for i in range(len(rounded_predictions)):\n",
    "        if rounded_predictions[i] == 1 and test_targets[i] == 0: false_pos += 1\n",
    "        if rounded_predictions[i] == 0 and test_targets[i] == 1: false_neg += 1\n",
    "        if rounded_predictions[i] == test_targets[i]: successes += 1\n",
    "    return successes, false_pos, false_neg\n",
    "\n",
    "filenames = ['combined_train_test.p', 'r_train_so_test.p', 'so_train_r_test.p',\n",
    "            'so_alone.p', 'reddit_alone.p']\n"
   ]
  },
  {
   "cell_type": "code",
   "execution_count": null,
   "metadata": {},
   "outputs": [
    {
     "name": "stderr",
     "output_type": "stream",
     "text": [
      "c:\\program files\\python36\\lib\\site-packages\\sklearn\\linear_model\\stochastic_gradient.py:128: FutureWarning: max_iter and tol parameters have been added in <class 'sklearn.linear_model.stochastic_gradient.SGDClassifier'> in 0.19. If both are left unset, they default to max_iter=5 and tol=None. If tol is not None, max_iter defaults to max_iter=1000. From 0.21, default max_iter will be 1000, and default tol will be 1e-3.\n",
      "  \"and default tol will be 1e-3.\" % type(self), FutureWarning)\n",
      "c:\\program files\\python36\\lib\\site-packages\\sklearn\\utils\\validation.py:578: DataConversionWarning: A column-vector y was passed when a 1d array was expected. Please change the shape of y to (n_samples, ), for example using ravel().\n",
      "  y = column_or_1d(y, warn=True)\n"
     ]
    }
   ],
   "source": [
    "def words_only(filename):\n",
    "    sgd = linear_model.SGDClassifier()\n",
    "\n",
    "    with open(filename, 'rb') as pfile:\n",
    "        train, test = pickle.load(pfile)\n",
    "    directory_name = filename.split('.p')[0]\n",
    "    with open(directory_name + \"/tokenized_dict.p\", 'rb') as pfile:\n",
    "        train_token_dict, test_token_dict = pickle.load(pfile)\n",
    "    with open(directory_name + \"/body_vectorizer.p\", 'rb') as pfile:\n",
    "        body_vectorizer = pickle.load(pfile) \n",
    "    with open(directory_name + \"/title_vectorizer.p\", 'rb') as pfile:\n",
    "        title_vectorizer = pickle.load(pfile)   \n",
    "    empty_response = title_vectorizer.transform([])\n",
    "    title_length = empty_response.shape[1]\n",
    "    empty_response = body_vectorizer.transform([])\n",
    "    body_length = empty_response.shape[1]\n",
    "    train_length = len(train.index.values)\n",
    "\n",
    "    max_batch_size = 1000\n",
    "    counter = 0\n",
    "\n",
    "    train_regressors = np.empty([max_batch_size, body_length + title_length])\n",
    "    train_targets = np.empty([max_batch_size, 1])\n",
    "\n",
    "    for i in range(train_length):\n",
    "        index = train.index.values[i]\n",
    "        row = train_token_dict[index]\n",
    "        title_words = row[0].words\n",
    "        body_words = row[1].words\n",
    "        if len(body_words) is 0: body_words = [\"\"]\n",
    "        title_vectorization = title_vectorizer.transform(title_words).toarray()[0]\n",
    "        body_vectorization = body_vectorizer.transform(body_words).toarray()[0]\n",
    "        train_regressors[counter] = np.concatenate((title_vectorization, body_vectorization))\n",
    "        train_targets[counter] = train['answer_good'].values[i]\n",
    "        counter += 1\n",
    "        if counter == max_batch_size:\n",
    "            sgd.partial_fit(train_regressors, train_targets, classes=np.array([0, 1]))\n",
    "            if train_length - i < max_batch_size:\n",
    "                batch_size = train_length % max_batch_size\n",
    "            else:\n",
    "                batch_size = max_batch_size\n",
    "            train_regressors = np.empty([batch_size, body_length + title_length])\n",
    "            train_targets = np.empty([batch_size, 1])\n",
    "            counter = 0\n",
    "    \n",
    "    counter = 0\n",
    "    successes, false_pos, false_neg = 0, 0, 0\n",
    "    test_length = len(test.index.values)\n",
    "    test_regressors = np.empty([test_length, body_length + title_length])\n",
    "    train_regressors = np.empty([max_batch_size, body_length + title_length])\n",
    "    train_targets = np.empty([max_batch_size, 1])\n",
    "    for i in range(test_length):\n",
    "        index = train.index.values[i]\n",
    "        row = train_token_dict[index]\n",
    "        title_words = row[0].words\n",
    "        body_words = row[1].words\n",
    "        if len(body_words) is 0: body_words = [\"\"]\n",
    "        title_vectorization = title_vectorizer.transform(title_words).toarray()[0]\n",
    "        body_vectorization = body_vectorizer.transform(body_words).toarray()[0]\n",
    "        test_regressors[counter] = np.concatenate((title_vectorization, body_vectorization))\n",
    "        test_targets[counter] = test['answer_good'].values[i]\n",
    "        counter += 1\n",
    "        if counter == max_batch_size:\n",
    "            successes, false_pos, false_neg = test_batch(test_regressors, test_targets, sgd, \n",
    "                                                        successes, false_pos, false_neg)\n",
    "            if test_length - i < max_batch_size:\n",
    "                batch_size = test_length % max_batch_size\n",
    "            else:\n",
    "                batch_size = max_batch_size\n",
    "            test_regressors = np.empty([batch_size, body_length + title_length])\n",
    "            test_targets = np.empty([batch_size, 1])\n",
    "            counter = 0\n",
    "    return successes, false_pos, false_neg\n",
    "\n",
    "with open('words_only_results.csv', 'w+', newline=\"\") as csvfile:\n",
    "    fieldnames = ['Test Name', 'Success Rate', 'false +', 'false -']\n",
    "    writer = csv.DictWriter(csvfile, fieldnames=fieldnames)\n",
    "    writer.writeheader()\n",
    "    for name in filenames:\n",
    "        successes, false_pos, false_neg = words_only(name)\n",
    "        success_rate = float(successes) / (successes + false_pos + false_neg)\n",
    "        writer.writerow({'Test Name': name, 'Success Rate': success_rate, \n",
    "                         'false +': false_pos, 'false -': false_neg})"
   ]
  },
  {
   "cell_type": "code",
   "execution_count": 11,
   "metadata": {},
   "outputs": [
    {
     "ename": "NameError",
     "evalue": "name 'sdg' is not defined",
     "output_type": "error",
     "traceback": [
      "\u001b[1;31m---------------------------------------------------------------------------\u001b[0m",
      "\u001b[1;31mNameError\u001b[0m                                 Traceback (most recent call last)",
      "\u001b[1;32m<ipython-input-11-36e655061360>\u001b[0m in \u001b[0;36m<module>\u001b[1;34m()\u001b[0m\n\u001b[0;32m     35\u001b[0m     \u001b[0mcounter\u001b[0m \u001b[1;33m+=\u001b[0m \u001b[1;36m1\u001b[0m\u001b[1;33m\u001b[0m\u001b[0m\n\u001b[0;32m     36\u001b[0m     \u001b[1;32mif\u001b[0m \u001b[0mcounter\u001b[0m \u001b[1;33m==\u001b[0m \u001b[1;36m1000\u001b[0m\u001b[1;33m:\u001b[0m\u001b[1;33m\u001b[0m\u001b[0m\n\u001b[1;32m---> 37\u001b[1;33m         \u001b[0msdg\u001b[0m\u001b[1;33m.\u001b[0m\u001b[0mpartial_fit\u001b[0m\u001b[1;33m(\u001b[0m\u001b[0mtrain_regressors\u001b[0m\u001b[1;33m,\u001b[0m \u001b[0mtrain_targets\u001b[0m\u001b[1;33m)\u001b[0m\u001b[1;33m\u001b[0m\u001b[0m\n\u001b[0m\u001b[0;32m     38\u001b[0m         \u001b[1;32mif\u001b[0m \u001b[0mtrain_length\u001b[0m \u001b[1;33m-\u001b[0m \u001b[0mi\u001b[0m \u001b[1;33m<\u001b[0m \u001b[1;36m1000\u001b[0m\u001b[1;33m:\u001b[0m\u001b[1;33m\u001b[0m\u001b[0m\n\u001b[0;32m     39\u001b[0m             \u001b[0mbatch_size\u001b[0m \u001b[1;33m=\u001b[0m \u001b[0mtrain_length\u001b[0m \u001b[1;33m%\u001b[0m \u001b[1;36m1000\u001b[0m\u001b[1;33m\u001b[0m\u001b[0m\n",
      "\u001b[1;31mNameError\u001b[0m: name 'sdg' is not defined"
     ]
    }
   ],
   "source": [
    "filename = filenames[0]\n",
    "sgd = linear_model.SGDClassifier()\n",
    "\n",
    "with open(filename, 'rb') as pfile:\n",
    "    train, test = pickle.load(pfile)\n",
    "directory_name = filename.split('.p')[0]\n",
    "with open(directory_name + \"/tokenized_dict.p\", 'rb') as pfile:\n",
    "    train_token_dict, test_token_dict = pickle.load(pfile)\n",
    "with open(directory_name + \"/body_vectorizer.p\", 'rb') as pfile:\n",
    "    body_vectorizer = pickle.load(pfile) \n",
    "with open(directory_name + \"/title_vectorizer.p\", 'rb') as pfile:\n",
    "    title_vectorizer = pickle.load(pfile)   \n",
    "empty_response = title_vectorizer.transform([])\n",
    "title_length = empty_response.shape[1]\n",
    "empty_response = body_vectorizer.transform([])\n",
    "body_length = empty_response.shape[1]\n",
    "train_length = len(train.index.values)\n",
    "\n",
    "max_batch_size = 1000\n",
    "counter = 0\n",
    "\n",
    "train_regressors = np.empty([max_batch_size, body_length + title_length])\n",
    "train_targets = np.empty([max_batch_size, 1])\n",
    "\n",
    "for i in range(train_length):\n",
    "    index = train.index.values[i]\n",
    "    row = train_token_dict[index]\n",
    "    title_words = row[0].words\n",
    "    body_words = row[1].words\n",
    "    if len(body_words) is 0: body_words = [\"\"]\n",
    "    title_vectorization = title_vectorizer.transform(title_words).toarray()[0]\n",
    "    body_vectorization = body_vectorizer.transform(body_words).toarray()[0]\n",
    "    train_regressors[counter] = np.concatenate((title_vectorization, body_vectorization))\n",
    "    train_targets[counter] = train['answer_good'].values[i]\n",
    "    counter += 1\n",
    "    if counter == 1000:\n",
    "        sgd.partial_fit(train_regressors, train_targets)\n",
    "        if train_length - i < 1000:\n",
    "            batch_size = train_length % 1000\n",
    "        else:\n",
    "            batch_size = 1000\n",
    "        train_regressors = np.empty([batch_size, body_length + title_length])\n",
    "        train_targets = np.empty([batch_size, 1])\n",
    "        counter = 0\n",
    "        print(counter)"
   ]
  },
  {
   "cell_type": "code",
   "execution_count": 6,
   "metadata": {},
   "outputs": [
    {
     "data": {
      "text/plain": [
       "array([0, 0, 0, ..., 0, 0, 0], dtype=int64)"
      ]
     },
     "execution_count": 6,
     "metadata": {},
     "output_type": "execute_result"
    }
   ],
   "source": [
    "body_vectorizer.transform([\"\"]).toarray()[0]"
   ]
  },
  {
   "cell_type": "code",
   "execution_count": 7,
   "metadata": {},
   "outputs": [
    {
     "data": {
      "text/plain": [
       "[]"
      ]
     },
     "execution_count": 7,
     "metadata": {},
     "output_type": "execute_result"
    }
   ],
   "source": [
    "body_words"
   ]
  },
  {
   "cell_type": "code",
   "execution_count": null,
   "metadata": {},
   "outputs": [],
   "source": []
  }
 ],
 "metadata": {
  "kernelspec": {
   "display_name": "Python 3",
   "language": "python",
   "name": "python3"
  },
  "language_info": {
   "codemirror_mode": {
    "name": "ipython",
    "version": 3
   },
   "file_extension": ".py",
   "mimetype": "text/x-python",
   "name": "python",
   "nbconvert_exporter": "python",
   "pygments_lexer": "ipython3",
   "version": "3.6.4"
  }
 },
 "nbformat": 4,
 "nbformat_minor": 2
}
