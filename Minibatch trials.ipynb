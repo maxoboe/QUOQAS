{
 "cells": [
  {
   "cell_type": "code",
   "execution_count": 1,
   "metadata": {},
   "outputs": [
    {
     "name": "stderr",
     "output_type": "stream",
     "text": [
      "c:\\program files\\python36\\lib\\site-packages\\gensim\\utils.py:1197: UserWarning: detected Windows; aliasing chunkize to chunkize_serial\n",
      "  warnings.warn(\"detected Windows; aliasing chunkize to chunkize_serial\")\n"
     ]
    }
   ],
   "source": [
    "from sklearn import linear_model\n",
    "import numpy as np\n",
    "from collections import namedtuple\n",
    "tokenized_row = namedtuple('tokenized_row', 'sent_count sentences word_count words')\n",
    "from sklearn.feature_extraction.text import CountVectorizer\n",
    "import pickle\n",
    "import csv\n",
    "from gensim.models.doc2vec import Doc2Vec\n",
    "Document = namedtuple('ScoreDocument', 'words tags')\n",
    "\n",
    "def test_batch(test_regressors, test_targets, model, successes, false_pos, false_neg):\n",
    "    test_predictions = model.predict(test_regressors)\n",
    "    rounded_predictions = np.rint(test_predictions)\n",
    "    for i in range(len(rounded_predictions)):\n",
    "        if rounded_predictions[i] == 1 and test_targets[i] == 0: false_pos += 1\n",
    "        if rounded_predictions[i] == 0 and test_targets[i] == 1: false_neg += 1\n",
    "        if rounded_predictions[i] == test_targets[i]: successes += 1\n",
    "    return successes, false_pos, false_neg\n",
    "\n",
    "filenames = ['combined_train_test.p', 'r_train_so_test.p', 'so_train_r_test.p',\n",
    "            'so_alone.p', 'reddit_alone.p']\n",
    "\n",
    "def load_files(filename):\n",
    "    with open(filename, 'rb') as pfile:\n",
    "        train, test = pickle.load(pfile)\n",
    "    directory_name = filename.split('.p')[0]\n",
    "    with open(directory_name + \"/tokenized_dict.p\", 'rb') as pfile:\n",
    "        train_token_dict, test_token_dict = pickle.load(pfile)\n",
    "    with open(directory_name + \"/body_vectorizer.p\", 'rb') as pfile:\n",
    "        body_vectorizer = pickle.load(pfile) \n",
    "    with open(directory_name + \"/title_vectorizer.p\", 'rb') as pfile:\n",
    "        title_vectorizer = pickle.load(pfile)   \n",
    "    return (train, test, train_token_dict, test_token_dict, body_vectorizer, title_vectorizer)\n",
    "\n",
    "\n",
    "def load_docmodels(filename):\n",
    "    directory_name = filename.split('.p')[0]\n",
    "    titles = Doc2Vec.load(directory_name + '/titles.doc2vec')\n",
    "    bodies = Doc2Vec.load(directory_name + '/bodies.doc2vec')\n",
    "    title_sentences = Doc2Vec.load(directory_name + '/title_sentences.doc2vec')\n",
    "    body_sentences = Doc2Vec.load(directory_name + '/body_sentences.doc2vec')\n",
    "    return titles, bodies, title_sentences, body_sentences\n",
    "\n",
    "\n",
    "def run_minibatch(dataframe, model, token_dict, body_vectorizer, title_vectorizer, is_train, \n",
    "                  incl_words, incl_counts, incl_global_doc = False, incl_local_doc = False, \n",
    "                 titles = None, bodies = None, title_sentences = None, body_sentences = None):\n",
    "    max_batch_size = 1000\n",
    "    counter = 0\n",
    "    successes, false_pos, false_neg = 0, 0, 0\n",
    "    dataframe = dataframe.sample(frac=1)\n",
    "    \n",
    "    feature_length = 0\n",
    "    \n",
    "    if incl_words:\n",
    "        empty_response = title_vectorizer.transform([])\n",
    "        title_length = empty_response.shape[1]\n",
    "        empty_response = body_vectorizer.transform([])\n",
    "        body_length = empty_response.shape[1]\n",
    "        feature_length += body_length + title_length\n",
    "    if incl_counts:\n",
    "        feature_length += 4 # word count, sent count for title and body\n",
    "    if incl_global_doc:\n",
    "        feature_length += 200 # Each doc vec has size 100\n",
    "    if incl_local_doc:\n",
    "        feature_length += 200 \n",
    "        \n",
    "    \n",
    "    regressors = np.empty([max_batch_size, feature_length])\n",
    "    targets = np.empty([max_batch_size, ])\n",
    "    length = len(dataframe.index.values)\n",
    "\n",
    "    for i in range(length):\n",
    "        index = dataframe.index.values[i]\n",
    "        row = token_dict[index]\n",
    "        title_words = row[0].words\n",
    "        body_words = row[1].words\n",
    "        if len(body_words) is 0: body_words = [\"\"]\n",
    "        title_vectorization = title_vectorizer.transform(title_words).toarray()[0]\n",
    "        body_vectorization = body_vectorizer.transform(body_words).toarray()[0]\n",
    "        features = np.array([])\n",
    "        if incl_words:\n",
    "            features = np.concatenate((features, title_vectorization, body_vectorization))\n",
    "        if incl_counts:\n",
    "            features = np.concatenate((features, [row[0].word_count, row[0].sent_count, \n",
    "                                                  row[1].word_count, row[1].sent_count]))\n",
    "        if incl_global_doc:\n",
    "            body_vector = bodies.docvecs[index]\n",
    "            title_vector = titles.docvecs[index]\n",
    "            features = np.concatenate((features, title_vector, body_vector))\n",
    "        if incl_local_doc:\n",
    "            body_vector = np.zeros([100,])\n",
    "            title_vector = np.zeros([100,])\n",
    "            for j in range(row[0].sent_count):\n",
    "                title_vector = title_vector + title_sentences.docvecs[str(index) + '_' + str(j)]\n",
    "            for j in range(row[1].sent_count):\n",
    "                body_vector = body_vector + body_sentences.docvecs[str(index) + '_' + str(j)]\n",
    "            features = np.concatenate((features, title_vector, body_vector))\n",
    "        regressors[counter] = features\n",
    "        targets[counter] = dataframe['answer_good'].values[i]\n",
    "        counter += 1\n",
    "        if counter == max_batch_size:\n",
    "            if is_train:\n",
    "                model.partial_fit(regressors, targets, classes=np.array([0, 1]))\n",
    "            else:\n",
    "                successes, false_pos, false_neg = test_batch(regressors, targets, model, \n",
    "                                                        successes, false_pos, false_neg)\n",
    "            if length - i < max_batch_size:\n",
    "                batch_size = length % max_batch_size\n",
    "            else:\n",
    "                batch_size = max_batch_size\n",
    "            regressors = np.empty([batch_size, feature_length])\n",
    "            targets = np.empty([batch_size, ])\n",
    "            counter = 0\n",
    "    if is_train:\n",
    "        return model\n",
    "    else:\n",
    "        return successes, false_pos, false_neg\n",
    "\n",
    "def test_and_train(filename, incl_words=False, incl_counts=False, incl_global_doc = False, incl_local_doc = False):\n",
    "    model = linear_model.SGDClassifier(loss='log', penalty='elasticnet')\n",
    "    titles, bodies, title_sentences, body_sentences = load_docmodels(filename)\n",
    "    (train, test, train_token_dict, test_token_dict, body_vectorizer, title_vectorizer) = load_files(filename)\n",
    "    model = run_minibatch(train, model, train_token_dict, body_vectorizer, title_vectorizer, is_train=True,\n",
    "                        incl_words=incl_words, incl_counts=incl_counts, \n",
    "                        incl_global_doc=incl_global_doc, incl_local_doc=incl_local_doc,\n",
    "                        titles=titles, bodies=bodies, title_sentences=title_sentences, body_sentences=body_sentences)\n",
    "    return run_minibatch(test, model, test_token_dict, body_vectorizer, title_vectorizer, is_train=False,\n",
    "                        incl_words=incl_words, incl_counts=incl_counts, \n",
    "                        incl_global_doc=incl_global_doc, incl_local_doc=incl_local_doc,\n",
    "                        titles=titles, bodies=bodies, title_sentences=title_sentences, body_sentences=body_sentences)"
   ]
  },
  {
   "cell_type": "code",
   "execution_count": 2,
   "metadata": {
    "scrolled": true
   },
   "outputs": [
    {
     "name": "stderr",
     "output_type": "stream",
     "text": [
      "c:\\program files\\python36\\lib\\site-packages\\sklearn\\linear_model\\stochastic_gradient.py:128: FutureWarning: max_iter and tol parameters have been added in <class 'sklearn.linear_model.stochastic_gradient.SGDClassifier'> in 0.19. If both are left unset, they default to max_iter=5 and tol=None. If tol is not None, max_iter defaults to max_iter=1000. From 0.21, default max_iter will be 1000, and default tol will be 1e-3.\n",
      "  \"and default tol will be 1e-3.\" % type(self), FutureWarning)\n"
     ]
    }
   ],
   "source": [
    "with open('results/words_only.csv', 'w+', newline=\"\") as csvfile:\n",
    "    fieldnames = ['Test Name', 'Success Rate', 'false +', 'false -']\n",
    "    writer = csv.DictWriter(csvfile, fieldnames=fieldnames)\n",
    "    writer.writeheader()\n",
    "    for name in filenames:\n",
    "        successes, false_pos, false_neg = test_and_train(name, incl_words=True, incl_counts=False, \n",
    "                                                         incl_global_doc=False, incl_local_doc=False)\n",
    "        success_rate = float(successes) / (successes + false_pos + false_neg)\n",
    "        writer.writerow({'Test Name': name, 'Success Rate': success_rate, \n",
    "                         'false +': false_pos, 'false -': false_neg})"
   ]
  },
  {
   "cell_type": "code",
   "execution_count": 3,
   "metadata": {},
   "outputs": [
    {
     "name": "stderr",
     "output_type": "stream",
     "text": [
      "c:\\program files\\python36\\lib\\site-packages\\sklearn\\linear_model\\stochastic_gradient.py:128: FutureWarning: max_iter and tol parameters have been added in <class 'sklearn.linear_model.stochastic_gradient.SGDClassifier'> in 0.19. If both are left unset, they default to max_iter=5 and tol=None. If tol is not None, max_iter defaults to max_iter=1000. From 0.21, default max_iter will be 1000, and default tol will be 1e-3.\n",
      "  \"and default tol will be 1e-3.\" % type(self), FutureWarning)\n"
     ]
    }
   ],
   "source": [
    "with open('results/words_and_counts.csv', 'w+', newline=\"\") as csvfile:\n",
    "    fieldnames = ['Test Name', 'Success Rate', 'false +', 'false -']\n",
    "    writer = csv.DictWriter(csvfile, fieldnames=fieldnames)\n",
    "    writer.writeheader()\n",
    "    for name in filenames:\n",
    "        successes, false_pos, false_neg = test_and_train(name, incl_words=True, incl_counts=True, \n",
    "                                                         incl_global_doc=False, incl_local_doc=False)\n",
    "        success_rate = float(successes) / (successes + false_pos + false_neg)\n",
    "        writer.writerow({'Test Name': name, 'Success Rate': success_rate, \n",
    "                         'false +': false_pos, 'false -': false_neg})"
   ]
  },
  {
   "cell_type": "code",
   "execution_count": 4,
   "metadata": {},
   "outputs": [
    {
     "name": "stderr",
     "output_type": "stream",
     "text": [
      "c:\\program files\\python36\\lib\\site-packages\\sklearn\\linear_model\\stochastic_gradient.py:128: FutureWarning: max_iter and tol parameters have been added in <class 'sklearn.linear_model.stochastic_gradient.SGDClassifier'> in 0.19. If both are left unset, they default to max_iter=5 and tol=None. If tol is not None, max_iter defaults to max_iter=1000. From 0.21, default max_iter will be 1000, and default tol will be 1e-3.\n",
      "  \"and default tol will be 1e-3.\" % type(self), FutureWarning)\n"
     ]
    }
   ],
   "source": [
    "with open('results/counts_alone.csv', 'w+', newline=\"\") as csvfile:\n",
    "    fieldnames = ['Test Name', 'Success Rate', 'false +', 'false -']\n",
    "    writer = csv.DictWriter(csvfile, fieldnames=fieldnames)\n",
    "    writer.writeheader()\n",
    "    for name in filenames:\n",
    "        successes, false_pos, false_neg = test_and_train(name, incl_words=False, incl_counts=True, \n",
    "                                                         incl_global_doc=False, incl_local_doc=False)\n",
    "        success_rate = float(successes) / (successes + false_pos + false_neg)\n",
    "        writer.writerow({'Test Name': name, 'Success Rate': success_rate, \n",
    "                         'false +': false_pos, 'false -': false_neg})"
   ]
  },
  {
   "cell_type": "code",
   "execution_count": 5,
   "metadata": {},
   "outputs": [
    {
     "name": "stderr",
     "output_type": "stream",
     "text": [
      "c:\\program files\\python36\\lib\\site-packages\\sklearn\\linear_model\\stochastic_gradient.py:128: FutureWarning: max_iter and tol parameters have been added in <class 'sklearn.linear_model.stochastic_gradient.SGDClassifier'> in 0.19. If both are left unset, they default to max_iter=5 and tol=None. If tol is not None, max_iter defaults to max_iter=1000. From 0.21, default max_iter will be 1000, and default tol will be 1e-3.\n",
      "  \"and default tol will be 1e-3.\" % type(self), FutureWarning)\n"
     ]
    }
   ],
   "source": [
    "with open('results/global_alone.csv', 'w+', newline=\"\") as csvfile:\n",
    "    fieldnames = ['Test Name', 'Success Rate', 'false +', 'false -']\n",
    "    writer = csv.DictWriter(csvfile, fieldnames=fieldnames)\n",
    "    writer.writeheader()\n",
    "    for name in filenames:\n",
    "        successes, false_pos, false_neg = test_and_train(name, incl_words=False, incl_counts=False, \n",
    "                                                         incl_global_doc=True, incl_local_doc=False)\n",
    "        success_rate = float(successes) / (successes + false_pos + false_neg)\n",
    "        writer.writerow({'Test Name': name, 'Success Rate': success_rate, \n",
    "                         'false +': false_pos, 'false -': false_neg})"
   ]
  },
  {
   "cell_type": "code",
   "execution_count": 6,
   "metadata": {},
   "outputs": [
    {
     "name": "stderr",
     "output_type": "stream",
     "text": [
      "c:\\program files\\python36\\lib\\site-packages\\sklearn\\linear_model\\stochastic_gradient.py:128: FutureWarning: max_iter and tol parameters have been added in <class 'sklearn.linear_model.stochastic_gradient.SGDClassifier'> in 0.19. If both are left unset, they default to max_iter=5 and tol=None. If tol is not None, max_iter defaults to max_iter=1000. From 0.21, default max_iter will be 1000, and default tol will be 1e-3.\n",
      "  \"and default tol will be 1e-3.\" % type(self), FutureWarning)\n"
     ]
    }
   ],
   "source": [
    "with open('results/local_alone.csv', 'w+', newline=\"\") as csvfile:\n",
    "    fieldnames = ['Test Name', 'Success Rate', 'false +', 'false -']\n",
    "    writer = csv.DictWriter(csvfile, fieldnames=fieldnames)\n",
    "    writer.writeheader()\n",
    "    for name in filenames:\n",
    "        successes, false_pos, false_neg = test_and_train(name, incl_words=False, incl_counts=False, \n",
    "                                                         incl_global_doc=False, incl_local_doc=True)\n",
    "        success_rate = float(successes) / (successes + false_pos + false_neg)\n",
    "        writer.writerow({'Test Name': name, 'Success Rate': success_rate, \n",
    "                         'false +': false_pos, 'false -': false_neg})"
   ]
  },
  {
   "cell_type": "code",
   "execution_count": 7,
   "metadata": {},
   "outputs": [
    {
     "name": "stderr",
     "output_type": "stream",
     "text": [
      "c:\\program files\\python36\\lib\\site-packages\\sklearn\\linear_model\\stochastic_gradient.py:128: FutureWarning: max_iter and tol parameters have been added in <class 'sklearn.linear_model.stochastic_gradient.SGDClassifier'> in 0.19. If both are left unset, they default to max_iter=5 and tol=None. If tol is not None, max_iter defaults to max_iter=1000. From 0.21, default max_iter will be 1000, and default tol will be 1e-3.\n",
      "  \"and default tol will be 1e-3.\" % type(self), FutureWarning)\n"
     ]
    }
   ],
   "source": [
    "with open('results/global_and_local.csv', 'w+', newline=\"\") as csvfile:\n",
    "    fieldnames = ['Test Name', 'Success Rate', 'false +', 'false -']\n",
    "    writer = csv.DictWriter(csvfile, fieldnames=fieldnames)\n",
    "    writer.writeheader()\n",
    "    for name in filenames:\n",
    "        successes, false_pos, false_neg = test_and_train(name, incl_words=False, incl_counts=False, \n",
    "                                                         incl_global_doc=True, incl_local_doc=True)\n",
    "        success_rate = float(successes) / (successes + false_pos + false_neg)\n",
    "        writer.writerow({'Test Name': name, 'Success Rate': success_rate, \n",
    "                         'false +': false_pos, 'false -': false_neg})"
   ]
  },
  {
   "cell_type": "code",
   "execution_count": 8,
   "metadata": {},
   "outputs": [
    {
     "name": "stderr",
     "output_type": "stream",
     "text": [
      "c:\\program files\\python36\\lib\\site-packages\\sklearn\\linear_model\\stochastic_gradient.py:128: FutureWarning: max_iter and tol parameters have been added in <class 'sklearn.linear_model.stochastic_gradient.SGDClassifier'> in 0.19. If both are left unset, they default to max_iter=5 and tol=None. If tol is not None, max_iter defaults to max_iter=1000. From 0.21, default max_iter will be 1000, and default tol will be 1e-3.\n",
      "  \"and default tol will be 1e-3.\" % type(self), FutureWarning)\n"
     ]
    }
   ],
   "source": [
    "with open('results/global_and_local_and_words.csv', 'w+', newline=\"\") as csvfile:\n",
    "    fieldnames = ['Test Name', 'Success Rate', 'false +', 'false -']\n",
    "    writer = csv.DictWriter(csvfile, fieldnames=fieldnames)\n",
    "    writer.writeheader()\n",
    "    for name in filenames:\n",
    "        successes, false_pos, false_neg = test_and_train(name, incl_words=True, incl_counts=False, \n",
    "                                                         incl_global_doc=True, incl_local_doc=True)\n",
    "        success_rate = float(successes) / (successes + false_pos + false_neg)\n",
    "        writer.writerow({'Test Name': name, 'Success Rate': success_rate, \n",
    "                         'false +': false_pos, 'false -': false_neg})"
   ]
  },
  {
   "cell_type": "code",
   "execution_count": 9,
   "metadata": {},
   "outputs": [
    {
     "name": "stderr",
     "output_type": "stream",
     "text": [
      "c:\\program files\\python36\\lib\\site-packages\\sklearn\\linear_model\\stochastic_gradient.py:128: FutureWarning: max_iter and tol parameters have been added in <class 'sklearn.linear_model.stochastic_gradient.SGDClassifier'> in 0.19. If both are left unset, they default to max_iter=5 and tol=None. If tol is not None, max_iter defaults to max_iter=1000. From 0.21, default max_iter will be 1000, and default tol will be 1e-3.\n",
      "  \"and default tol will be 1e-3.\" % type(self), FutureWarning)\n"
     ]
    }
   ],
   "source": [
    "with open('results/global_and_local_and_words_and_counts.csv', 'w+', newline=\"\") as csvfile:\n",
    "    fieldnames = ['Test Name', 'Success Rate', 'false +', 'false -']\n",
    "    writer = csv.DictWriter(csvfile, fieldnames=fieldnames)\n",
    "    writer.writeheader()\n",
    "    for name in filenames:\n",
    "        successes, false_pos, false_neg = test_and_train(name, incl_words=True, incl_counts=True, \n",
    "                                                         incl_global_doc=True, incl_local_doc=True)\n",
    "        success_rate = float(successes) / (successes + false_pos + false_neg)\n",
    "        writer.writerow({'Test Name': name, 'Success Rate': success_rate, \n",
    "                         'false +': false_pos, 'false -': false_neg})"
   ]
  },
  {
   "cell_type": "code",
   "execution_count": 10,
   "metadata": {},
   "outputs": [
    {
     "name": "stderr",
     "output_type": "stream",
     "text": [
      "c:\\program files\\python36\\lib\\site-packages\\sklearn\\linear_model\\stochastic_gradient.py:128: FutureWarning: max_iter and tol parameters have been added in <class 'sklearn.linear_model.stochastic_gradient.SGDClassifier'> in 0.19. If both are left unset, they default to max_iter=5 and tol=None. If tol is not None, max_iter defaults to max_iter=1000. From 0.21, default max_iter will be 1000, and default tol will be 1e-3.\n",
      "  \"and default tol will be 1e-3.\" % type(self), FutureWarning)\n"
     ]
    }
   ],
   "source": [
    "with open('results/local_and_words_and_counts.csv', 'w+', newline=\"\") as csvfile:\n",
    "    fieldnames = ['Test Name', 'Success Rate', 'false +', 'false -']\n",
    "    writer = csv.DictWriter(csvfile, fieldnames=fieldnames)\n",
    "    writer.writeheader()\n",
    "    for name in filenames:\n",
    "        successes, false_pos, false_neg = test_and_train(name, incl_words=True, incl_counts=True, \n",
    "                                                         incl_global_doc=False, incl_local_doc=True)\n",
    "        success_rate = float(successes) / (successes + false_pos + false_neg)\n",
    "        writer.writerow({'Test Name': name, 'Success Rate': success_rate, \n",
    "                         'false +': false_pos, 'false -': false_neg})"
   ]
  },
  {
   "cell_type": "code",
   "execution_count": 11,
   "metadata": {},
   "outputs": [
    {
     "name": "stderr",
     "output_type": "stream",
     "text": [
      "c:\\program files\\python36\\lib\\site-packages\\sklearn\\linear_model\\stochastic_gradient.py:128: FutureWarning: max_iter and tol parameters have been added in <class 'sklearn.linear_model.stochastic_gradient.SGDClassifier'> in 0.19. If both are left unset, they default to max_iter=5 and tol=None. If tol is not None, max_iter defaults to max_iter=1000. From 0.21, default max_iter will be 1000, and default tol will be 1e-3.\n",
      "  \"and default tol will be 1e-3.\" % type(self), FutureWarning)\n"
     ]
    }
   ],
   "source": [
    "with open('results/global_and_words_and_counts.csv', 'w+', newline=\"\") as csvfile:\n",
    "    fieldnames = ['Test Name', 'Success Rate', 'false +', 'false -']\n",
    "    writer = csv.DictWriter(csvfile, fieldnames=fieldnames)\n",
    "    writer.writeheader()\n",
    "    for name in filenames:\n",
    "        successes, false_pos, false_neg = test_and_train(name, incl_words=True, incl_counts=True, \n",
    "                                                         incl_global_doc=True, incl_local_doc=False)\n",
    "        success_rate = float(successes) / (successes + false_pos + false_neg)\n",
    "        writer.writerow({'Test Name': name, 'Success Rate': success_rate, \n",
    "                         'false +': false_pos, 'false -': false_neg})"
   ]
  },
  {
   "cell_type": "code",
   "execution_count": null,
   "metadata": {},
   "outputs": [],
   "source": []
  }
 ],
 "metadata": {
  "kernelspec": {
   "display_name": "Python 3",
   "language": "python",
   "name": "python3"
  },
  "language_info": {
   "codemirror_mode": {
    "name": "ipython",
    "version": 3
   },
   "file_extension": ".py",
   "mimetype": "text/x-python",
   "name": "python",
   "nbconvert_exporter": "python",
   "pygments_lexer": "ipython3",
   "version": "3.6.4"
  }
 },
 "nbformat": 4,
 "nbformat_minor": 2
}
