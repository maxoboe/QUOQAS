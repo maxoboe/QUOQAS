{
 "cells": [
  {
   "cell_type": "code",
   "execution_count": 14,
   "metadata": {},
   "outputs": [
    {
     "name": "stdout",
     "output_type": "stream",
     "text": [
      "[ 3060 14920  5906 ... 13158   209  5442]\n",
      "[1 4.0\n",
      " '<p>what specific behaviour confirmed the existence of the w and z bosons at the ua1 and ua2 experiments?</p>\\n\\n<p>thanks!</p>\\n'\n",
      " 'physics' 4 'detection of w and z bosons' 879.0 0.004550625711035267 0 1\n",
      " 9840.0 0.0 1.0 3060]\n"
     ]
    }
   ],
   "source": [
    "import re\n",
    "def remove_html(text):\n",
    "    cleanr = re.compile('<.*?>')\n",
    "    cleantext = re.sub(cleanr, '', text)\n",
    "    return cleantext\n",
    "\n",
    "import nltk.tokenize as tk\n",
    "def sentence_tokenize(text):\n",
    "    sentences = tk.sent_tokenize(text)\n",
    "    return len(sentences), sentences\n",
    "\n",
    "def word_tokenize(text):\n",
    "    words = tk.word_tokenize(text)\n",
    "    return len(words), words"
   ]
  },
  {
   "cell_type": "code",
   "execution_count": 56,
   "metadata": {},
   "outputs": [],
   "source": [
    "# Call on concatenation of body and title\n",
    "from collections import namedtuple\n",
    "tokenized_row = namedtuple('tokenized_row', 'sent_count sentences word_count words')\n",
    "\n",
    "def convert_row(text):\n",
    "    text = remove_html(text)\n",
    "    sent_count, sentences = sentence_tokenize(text)\n",
    "    word_count, words = word_tokenize(text)\n",
    "    return tokenized_row(sent_count, sentences, word_count, words)\n",
    "def build_dict(dataframe):\n",
    "    token_dict = {}\n",
    "    body_sentences = []\n",
    "    title_sentences = []\n",
    "    for i in range(len(dataframe.index.values)):\n",
    "        index = dataframe.index.values[i]\n",
    "        title = convert_row(dataframe['Title'].values[i])\n",
    "        title_sentences = title_sentences + title.sentences\n",
    "        body = convert_row(dataframe['Body'].values[i])\n",
    "        body_sentences = body_sentences + body.sentences\n",
    "        token_dict[index] = (title, body)\n",
    "    return token_dict, title_sentences, body_sentences\n",
    "    "
   ]
  },
  {
   "cell_type": "code",
   "execution_count": 57,
   "metadata": {},
   "outputs": [],
   "source": [
    "import pickle\n",
    "import pandas\n",
    "from sklearn.feature_extraction.text import CountVectorizer\n",
    "filename = 'combined_train_test.p'\n",
    "directory_name = filename.split('.p')[0]\n",
    "with open(filename, 'rb') as pfile:\n",
    "    train, test = pickle.load(pfile)\n",
    "body_vectorizer = CountVectorizer(stop_words='english')\n",
    "title_vectorizer = CountVectorizer(stop_words='english')\n",
    "train_token_dict, train_title_sentences, train_body_sentences = build_dict(train)\n",
    "test_token_dict, test_title_sentences, test_body_sentences = build_dict(test)\n",
    "body_vectorizer.fit(body_sentences)\n",
    "title_vectorizer.fit(title_sentences)\n",
    "with open(directory_name + \"/tokenized_dict.p\", 'wb') as pfile:\n",
    "    pickle.dump((train_token_dict, test_token_dict), pfile)\n",
    "with open(directory_name + \"/body_vectorizer.p\", 'wb') as pfile:\n",
    "    pickle.dump(body_vectorizer, pfile)\n",
    "with open(directory_name + \"/title_vectorizer.p\", 'wb') as pfile:\n",
    "    pickle.dump(title_vectorizer, pfile)"
   ]
  },
  {
   "cell_type": "code",
   "execution_count": 58,
   "metadata": {},
   "outputs": [
    {
     "name": "stdout",
     "output_type": "stream",
     "text": [
      "combined_train_test\n"
     ]
    }
   ],
   "source": [
    "filename = 'combined_train_test.p'\n",
    "directory_name = filename.split('.p')[0]\n",
    "print(directory_name)"
   ]
  },
  {
   "cell_type": "code",
   "execution_count": null,
   "metadata": {},
   "outputs": [],
   "source": []
  }
 ],
 "metadata": {
  "kernelspec": {
   "display_name": "Python 3",
   "language": "python",
   "name": "python3"
  },
  "language_info": {
   "codemirror_mode": {
    "name": "ipython",
    "version": 3
   },
   "file_extension": ".py",
   "mimetype": "text/x-python",
   "name": "python",
   "nbconvert_exporter": "python",
   "pygments_lexer": "ipython3",
   "version": "3.6.4"
  }
 },
 "nbformat": 4,
 "nbformat_minor": 2
}
