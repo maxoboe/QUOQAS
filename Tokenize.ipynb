{
 "cells": [
  {
   "cell_type": "code",
   "execution_count": 1,
   "metadata": {},
   "outputs": [],
   "source": [
    "import re\n",
    "def remove_html(text):\n",
    "    cleanr = re.compile('<.*?>')\n",
    "    cleantext = re.sub(cleanr, '', text)\n",
    "    return cleantext\n",
    "\n",
    "import nltk.tokenize as tk\n",
    "def sentence_tokenize(text):\n",
    "    sentences = tk.sent_tokenize(text)\n",
    "    return len(sentences), sentences\n",
    "\n",
    "def word_tokenize(text):\n",
    "    words = tk.word_tokenize(text)\n",
    "    return len(words), words"
   ]
  },
  {
   "cell_type": "code",
   "execution_count": 2,
   "metadata": {},
   "outputs": [],
   "source": [
    "# Call on concatenation of body and title\n",
    "from collections import namedtuple\n",
    "tokenized_row = namedtuple('tokenized_row', 'sent_count sentences word_count words')\n",
    "\n",
    "def convert_row(text):\n",
    "    text = remove_html(text)\n",
    "    sent_count, sentences = sentence_tokenize(text)\n",
    "    word_count, words = word_tokenize(text)\n",
    "    return tokenized_row(sent_count, sentences, word_count, words)\n",
    "def build_dict(dataframe):\n",
    "    token_dict = {}\n",
    "    body_words = []\n",
    "    title_words = []\n",
    "    for i in range(len(dataframe.index.values)):\n",
    "        index = dataframe.index.values[i]\n",
    "        title = convert_row(dataframe['Title'].values[i])\n",
    "        title_words = title_words + title.words\n",
    "        body = convert_row(dataframe['Body'].values[i])\n",
    "        body_words = body_words + body.words\n",
    "        token_dict[index] = (title, body)\n",
    "    return token_dict, title_words, body_words\n",
    "    "
   ]
  },
  {
   "cell_type": "code",
   "execution_count": 3,
   "metadata": {},
   "outputs": [],
   "source": [
    "import pickle\n",
    "import pandas\n",
    "import os\n",
    "from sklearn.feature_extraction.text import CountVectorizer\n",
    "filenames = ['combined_train_test.p', 'r_train_so_test.p', 'so_train_r_test.p',\n",
    "            'so_alone.p', 'reddit_alone.p']\n",
    "for filename in filenames:\n",
    "    directory_name = filename.split('.p')[0]\n",
    "    if not os.path.isdir(directory_name):\n",
    "        os.mkdir(directory_name)\n",
    "    with open(filename, 'rb') as pfile:\n",
    "        train, test = pickle.load(pfile)\n",
    "    body_vectorizer = CountVectorizer(stop_words='english', max_features = 2**12)\n",
    "    title_vectorizer = CountVectorizer(stop_words='english', max_features = 2**12)\n",
    "    train_token_dict, train_title_words, train_body_words = build_dict(train)\n",
    "    test_token_dict, test_title_words, test_body_words = build_dict(test)\n",
    "    body_vectorizer.fit((train_body_words + test_body_words))\n",
    "    title_vectorizer.fit((train_title_words + test_title_words))\n",
    "    with open(directory_name + \"/tokenized_dict.p\", 'wb') as pfile:\n",
    "        pickle.dump((train_token_dict, test_token_dict), pfile)\n",
    "    with open(directory_name + \"/body_vectorizer.p\", 'wb') as pfile:\n",
    "        pickle.dump(body_vectorizer, pfile)\n",
    "    with open(directory_name + \"/title_vectorizer.p\", 'wb') as pfile:\n",
    "        pickle.dump(title_vectorizer, pfile)"
   ]
  },
  {
   "cell_type": "code",
   "execution_count": 4,
   "metadata": {},
   "outputs": [],
   "source": [
    "for filename in ['combined_train_test.p']:\n",
    "    directory_name = filename.split('.p')[0]\n",
    "    if not os.path.isdir(directory_name):\n",
    "        os.mkdir(directory_name)\n",
    "    with open(filename, 'rb') as pfile:\n",
    "        train, test = pickle.load(pfile)\n",
    "    train_token_dict, train_title_words, train_body_words = build_dict(train)\n",
    "    test_token_dict, test_title_words, test_body_words = build_dict(test)\n",
    "    with open(directory_name + \"/tokenized_dict.p\", 'wb') as pfile:\n",
    "        pickle.dump((train_token_dict, test_token_dict), pfile)"
   ]
  },
  {
   "cell_type": "code",
   "execution_count": null,
   "metadata": {},
   "outputs": [],
   "source": []
  }
 ],
 "metadata": {
  "kernelspec": {
   "display_name": "Python 3",
   "language": "python",
   "name": "python3"
  },
  "language_info": {
   "codemirror_mode": {
    "name": "ipython",
    "version": 3
   },
   "file_extension": ".py",
   "mimetype": "text/x-python",
   "name": "python",
   "nbconvert_exporter": "python",
   "pygments_lexer": "ipython3",
   "version": "3.6.4"
  }
 },
 "nbformat": 4,
 "nbformat_minor": 2
}
