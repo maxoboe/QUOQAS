{
 "cells": [
  {
   "cell_type": "code",
   "execution_count": 21,
   "metadata": {},
   "outputs": [],
   "source": [
    "# Split the corpus by the given inputs, downselecting randomly to equal sizes\n",
    "import sqlite3\n",
    "import pandas\n",
    "con = sqlite3.connect('SO.db')\n",
    "cur = con.cursor()\n",
    "\n",
    "# Make all good, all bad sets (both by answer and by view)\n",
    "view_good = pandas.read_sql('select * from data where view_good is 1', con)\n",
    "view_bad = pandas.read_sql('select * from data where view_bad is 1', con)\n",
    "answer_good = pandas.read_sql('select * from data where answer_good is 1', con)\n",
    "answer_bad = pandas.read_sql('select * from data where answer_bad is 1', con)\n",
    "\n",
    "\n",
    "# Make 50/50 train/test sets\n",
    "# Do the NLP things\n",
    "# Report the sizes of the sets\n",
    "# Report the results, with false pos and negatives\n",
    "# Tests to compare: training on only one vs. on both, see if this impacts test performance"
   ]
  },
  {
   "cell_type": "code",
   "execution_count": 22,
   "metadata": {},
   "outputs": [
    {
     "name": "stdout",
     "output_type": "stream",
     "text": [
      "18791\n",
      "18791\n",
      "29828\n"
     ]
    }
   ],
   "source": [
    "view_max_size = min(len(view_good), len(view_bad))\n",
    "answer_max_size = min(len(answer_good), len(answer_bad))\n",
    "view_good_sample = view_good.sample(n=view_max_size)\n",
    "view_bad_sample = view_bad.sample(n=view_max_size)\n",
    "answer_good_sample = answer_good.sample(n=answer_max_size)\n",
    "answer_bad_sample = answer_bad.sample(n=answer_max_size)\n",
    "print(len(answer_good_sample))\n",
    "print(len(answer_bad_sample))\n",
    "print(len(view_good_sample))"
   ]
  },
  {
   "cell_type": "code",
   "execution_count": 33,
   "metadata": {},
   "outputs": [],
   "source": [
    "from sklearn.model_selection import train_test_split\n",
    "view_train, view_test = train_test_split(pandas.concat([view_good_sample, view_bad_sample]), test_size=0.5)\n",
    "answer_train, answer_test = train_test_split(pandas.concat([answer_good_sample, answer_bad_sample]), test_size=0.5)"
   ]
  },
  {
   "cell_type": "code",
   "execution_count": 34,
   "metadata": {},
   "outputs": [],
   "source": [
    "# Just using baseline of training on viewcount!\n",
    "import pickle\n",
    "with open('view_data.p', 'wb') as pfile:\n",
    "    pickle.dump((view_train, view_test), pfile)\n",
    "with open('answer_data.p', 'wb') as pfile:\n",
    "    pickle.dump((answer_train, answer_test), pfile)"
   ]
  },
  {
   "cell_type": "code",
   "execution_count": 35,
   "metadata": {},
   "outputs": [
    {
     "name": "stdout",
     "output_type": "stream",
     "text": [
      "18791\n"
     ]
    }
   ],
   "source": [
    "print(len(answer_train))"
   ]
  },
  {
   "cell_type": "code",
   "execution_count": null,
   "metadata": {},
   "outputs": [],
   "source": []
  }
 ],
 "metadata": {
  "kernelspec": {
   "display_name": "Python 3",
   "language": "python",
   "name": "python3"
  },
  "language_info": {
   "codemirror_mode": {
    "name": "ipython",
    "version": 3
   },
   "file_extension": ".py",
   "mimetype": "text/x-python",
   "name": "python",
   "nbconvert_exporter": "python",
   "pygments_lexer": "ipython3",
   "version": "3.6.4"
  }
 },
 "nbformat": 4,
 "nbformat_minor": 2
}
