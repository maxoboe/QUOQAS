{
 "cells": [
  {
   "cell_type": "code",
   "execution_count": null,
   "metadata": {},
   "outputs": [],
   "source": [
    "# Split the corpus by the given inputs, downselecting randomly to equal sizes\n",
    "import sqlite3\n",
    "import pandas\n",
    "con = sqlite3.connect('SO.db')\n",
    "cur = con.cursor()\n",
    "\n",
    "\n",
    "# Make 50/50 train/test sets\n",
    "# Do the NLP things\n",
    "# Report the sizes of the sets\n",
    "# Report the results, with false pos and negatives\n",
    "# Tests to compare: training on only one vs. on both, see if this impacts test performance"
   ]
  }
 ],
 "metadata": {
  "kernelspec": {
   "display_name": "Python 3",
   "language": "python",
   "name": "python3"
  },
  "language_info": {
   "codemirror_mode": {
    "name": "ipython",
    "version": 3
   },
   "file_extension": ".py",
   "mimetype": "text/x-python",
   "name": "python",
   "nbconvert_exporter": "python",
   "pygments_lexer": "ipython3",
   "version": "3.6.4"
  }
 },
 "nbformat": 4,
 "nbformat_minor": 2
}
