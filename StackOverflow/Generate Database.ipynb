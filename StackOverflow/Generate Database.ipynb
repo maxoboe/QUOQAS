{
 "cells": [
  {
   "cell_type": "code",
   "execution_count": 1,
   "metadata": {},
   "outputs": [],
   "source": [
    "# Use sqlite file for output\n",
    "import sqlite3\n",
    "import pandas\n",
    "con = sqlite3.connect('SO_quality.db')\n",
    "cur = con.cursor()"
   ]
  },
  {
   "cell_type": "code",
   "execution_count": 2,
   "metadata": {},
   "outputs": [],
   "source": [
    "cur.execute(\"drop table if exists data;\")\n",
    "cur.execute(\n",
    "\"create table data( \\\n",
    "    id int, \\\n",
    "    ViewCount int, \\\n",
    "    AnswerCount int, \\\n",
    "    Score int, \\\n",
    "    ViewRatio float, \\\n",
    "    AnswerRatio float, \\\n",
    "    Category varchar \\\n",
    ");\")\n",
    "from xml.dom import minidom\n",
    "categories =['earthscience', 'physics', 'chemistry', 'astronomy', 'biology']\n",
    "for category in categories:\n",
    "    xmldoc = minidom.parse(category + '.stackexchange.com/Posts.xml')\n",
    "    postlist = xmldoc.getElementsByTagName('row')\n",
    "    to_db = []\n",
    "    for post in postlist:\n",
    "        if int(post.attributes['PostTypeId'].value) is not 1:\n",
    "            continue\n",
    "        post_id = int(post.attributes['Id'].value)\n",
    "        ViewCount = int(post.attributes['ViewCount'].value)\n",
    "        AnswerCount = int(post.attributes['AnswerCount'].value)\n",
    "        Score = int(post.attributes['Score'].value)\n",
    "        ViewRatio = float(Score) / ViewCount\n",
    "        AnswerRatio = float(Score) / AnswerCount if AnswerCount > 0 else None\n",
    "        to_db.append((post_id, ViewCount, AnswerCount, Score, ViewRatio, AnswerRatio, category))\n",
    "    cur.executemany(\"insert into data (id, ViewCount, AnswerCount, Score, ViewRatio, AnswerRatio, Category ) \\\n",
    "                 VALUES (?, ?, ?, ?, ?, ?, ?);\", to_db)"
   ]
  },
  {
   "cell_type": "code",
   "execution_count": 4,
   "metadata": {},
   "outputs": [
    {
     "name": "stdout",
     "output_type": "stream",
     "text": [
      "   answer_good  answer_bad  view_good  view_bad  count(*)\n",
      "0            0           0          0         0     68608\n",
      "1            0           0          0         1      1964\n",
      "2            0           0          1         0     28390\n",
      "3            0           1          0         0     13001\n",
      "4            0           1          0         1     16827\n",
      "5            1           0          0         0     13116\n",
      "6            1           0          1         0     27233\n"
     ]
    }
   ],
   "source": [
    "import numpy\n",
    "ViewRatioTable_NonNegScores = pandas.read_sql('select ViewRatio from data where Score >= 0 AND ViewCount > 100', con)\n",
    "AnswerRatioTable_NonNegScores = pandas.read_sql('select AnswerRatio from data where Score >= 0 AND AnswerRatio is NOT NULL', con)\n",
    "Avg_ViewRatioTable_NonNegScores = numpy.average(ViewRatioTable_NonNegScores.values)\n",
    "Avg_AnswerRatioTable_NonNegScores = numpy.average(AnswerRatioTable_NonNegScores.values)\n",
    "cur.execute(\"DROP TABLE IF EXISTS good_bad;\")\n",
    "cur.execute(\"CREATE TABLE good_bad \\\n",
    "            AS SELECT *, AnswerRatio IS NOT NULL AND AnswerRatio > \" + str(Avg_AnswerRatioTable_NonNegScores ) + \" as answer_good, \\\n",
    "            AnswerRatio IS NOT NULL AND Score IS 0 as answer_bad, \\\n",
    "            ViewCount > 100 AND ViewRatio > \" + str(Avg_ViewRatioTable_NonNegScores / 2) + \" as view_good, \\\n",
    "            ViewCount > 100 AND Score IS 0 as view_bad from data;\")\n",
    "print(pandas.read_sql('select answer_good, answer_bad, view_good, view_bad, count(*) from good_bad \\\n",
    "                        GROUP BY answer_good, answer_bad, view_good, view_bad', con))\n",
    "con.commit()\n",
    "con.close()"
   ]
  },
  {
   "cell_type": "code",
   "execution_count": 6,
   "metadata": {},
   "outputs": [],
   "source": [
    "# Make new database for training and testing\n",
    "con = sqlite3.connect('SO.db')\n",
    "cur = con.cursor()\n",
    "cur.execute(\"DROP TABLE IF EXISTS data;\")\n",
    "cur.execute(\n",
    "\"create table data( \\\n",
    "    id int, \\\n",
    "    ViewCount int, \\\n",
    "    AnswerCount int, \\\n",
    "    Score int, \\\n",
    "    ViewRatio float, \\\n",
    "    AnswerRatio float, \\\n",
    "    Category varchar, \\\n",
    "    Body varchar, \\\n",
    "    Title varchar, \\\n",
    "    view_good, \\\n",
    "    view_bad, \\\n",
    "    answer_good, \\\n",
    "    answer_bad \\\n",
    ");\")\n",
    "from xml.dom import minidom\n",
    "categories =['earthscience', 'physics', 'chemistry', 'astronomy', 'biology']\n",
    "for category in categories:\n",
    "    xmldoc = minidom.parse(category + '.stackexchange.com/Posts.xml')\n",
    "    postlist = xmldoc.getElementsByTagName('row')\n",
    "    to_db = []\n",
    "    for post in postlist:\n",
    "        if int(post.attributes['PostTypeId'].value) is not 1:\n",
    "            continue\n",
    "        post_id = int(post.attributes['Id'].value)\n",
    "        ViewCount = int(post.attributes['ViewCount'].value)\n",
    "        AnswerCount = int(post.attributes['AnswerCount'].value)\n",
    "        Score = int(post.attributes['Score'].value)\n",
    "        ViewRatio = float(Score) / ViewCount\n",
    "        AnswerRatio = float(Score) / AnswerCount if AnswerCount > 0 else None\n",
    "        body = post.attributes['Body'].value\n",
    "        title = post.attributes['Title'].value\n",
    "        answer_good = AnswerCount > 0 and AnswerRatio > Avg_AnswerRatioTable_NonNegScores\n",
    "        answer_bad = AnswerCount > 0 and Score is 0\n",
    "        view_good = ViewCount > 100 and ViewRatio > Avg_ViewRatioTable_NonNegScores / 2\n",
    "        view_bad = ViewCount > 100 and Score is 0\n",
    "        to_db.append((post_id, ViewCount, AnswerCount, Score, ViewRatio, AnswerRatio, category, body, title,\n",
    "                     answer_good, answer_bad, view_good, view_bad))\n",
    "    cur.executemany(\"insert into data (id, ViewCount, AnswerCount, Score, ViewRatio, AnswerRatio, Category, \\\n",
    "                    Body, Title, view_good, view_bad, answer_good, answer_bad) \\\n",
    "                 VALUES (?, ?, ?, ?, ?, ?, ?, ?, ?, ?, ?, ?, ?);\", to_db)\n",
    "# Attach the quality database and read out all the things, including the good and the bad\n",
    "# So that thing includes the metrics of data quality. It's a thing. Maybe include that generation part here as well?\n",
    "# Okay great gonna do that \n",
    "# Then I make a new database, just SO.db, that has the quality metrics and all of the text"
   ]
  },
  {
   "cell_type": "code",
   "execution_count": 7,
   "metadata": {},
   "outputs": [],
   "source": [
    "con.commit()\n",
    "con.close()"
   ]
  },
  {
   "cell_type": "code",
   "execution_count": null,
   "metadata": {},
   "outputs": [],
   "source": []
  }
 ],
 "metadata": {
  "kernelspec": {
   "display_name": "Python 3",
   "language": "python",
   "name": "python3"
  },
  "language_info": {
   "codemirror_mode": {
    "name": "ipython",
    "version": 3
   },
   "file_extension": ".py",
   "mimetype": "text/x-python",
   "name": "python",
   "nbconvert_exporter": "python",
   "pygments_lexer": "ipython3",
   "version": "3.6.4"
  }
 },
 "nbformat": 4,
 "nbformat_minor": 2
}
