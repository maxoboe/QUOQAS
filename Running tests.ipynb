{
 "cells": [
  {
   "cell_type": "code",
   "execution_count": 24,
   "metadata": {},
   "outputs": [],
   "source": [
    "from sklearn import linear_model\n",
    "import numpy as np\n",
    "from collections import namedtuple\n",
    "tokenized_row = namedtuple('tokenized_row', 'sent_count sentences word_count words')\n",
    "from sklearn.feature_extraction.text import CountVectorizer\n",
    "import pickle\n",
    "import csv\n",
    "\n",
    "\n",
    "def train_sgd(train_targets, train_regressors):\n",
    "    sgd = linear_model.SGDClassifier()\n",
    "    sgd.fit(train_regressors, train_targets)\n",
    "    return sgd\n",
    "\n",
    "def error_rate(train_targets, train_regressors, test_targets, test_regressors):\n",
    "    sgd = train_sgd(train_targets, train_regressors)\n",
    "    test_predictions = sgd.predict(test_regressors)\n",
    "    rounded_predictions = np.rint(test_predictions)\n",
    "    false_pos = 0\n",
    "    false_neg = 0\n",
    "    correct = 0\n",
    "    for i in range(len(rounded_predictions)):\n",
    "        if rounded_predictions[i] == 1 and test_targets[i] == 0: false_pos += 1\n",
    "        if rounded_predictions[i] == 0 and test_targets[i] == 1: false_neg += 1\n",
    "        if rounded_predictions[i] == test_targets[i]: correct += 1\n",
    "    errors = false_pos + false_neg\n",
    "    corrects = len(rounded_predictions) - errors\n",
    "    assert(correct == corrects)\n",
    "    error_rate = float(errors) / len(test_predictions)\n",
    "    return (error_rate, false_pos, false_neg)\n",
    "\n",
    "filenames = ['combined_train_test.p', 'r_train_so_test.p', 'so_train_r_test.p',\n",
    "            'so_alone.p', 'reddit_alone.p']\n"
   ]
  },
  {
   "cell_type": "code",
   "execution_count": 25,
   "metadata": {},
   "outputs": [
    {
     "name": "stderr",
     "output_type": "stream",
     "text": [
      "c:\\program files\\python36\\lib\\site-packages\\sklearn\\linear_model\\stochastic_gradient.py:128: FutureWarning: max_iter and tol parameters have been added in <class 'sklearn.linear_model.stochastic_gradient.SGDClassifier'> in 0.19. If both are left unset, they default to max_iter=5 and tol=None. If tol is not None, max_iter defaults to max_iter=1000. From 0.21, default max_iter will be 1000, and default tol will be 1e-3.\n",
      "  \"and default tol will be 1e-3.\" % type(self), FutureWarning)\n",
      "c:\\program files\\python36\\lib\\site-packages\\sklearn\\utils\\validation.py:578: DataConversionWarning: A column-vector y was passed when a 1d array was expected. Please change the shape of y to (n_samples, ), for example using ravel().\n",
      "  y = column_or_1d(y, warn=True)\n"
     ]
    }
   ],
   "source": [
    "def baseline(filename):\n",
    "    with open(filename, 'rb') as pfile:\n",
    "        train, test = pickle.load(pfile)\n",
    "    train_targets = train['answer_good'].values.reshape(-1, 1)\n",
    "    train_regressors = train['AnswerCount'].values.reshape(-1, 1)\n",
    "    test_targets = test['answer_good'].values.reshape(-1, 1)\n",
    "    test_regressors = test['AnswerCount'].values.reshape(-1, 1)\n",
    "    return error_rate(train_targets, train_regressors, test_targets, test_regressors)\n",
    "\n",
    "with open('baseline_results.csv', 'w+', newline=\"\") as csvfile:\n",
    "    fieldnames = ['Test Name', 'Success Rate', 'false +', 'false -']\n",
    "    writer = csv.DictWriter(csvfile, fieldnames=fieldnames)\n",
    "    writer.writeheader()\n",
    "    for name in filenames:\n",
    "        errors, false_pos, false_neg = baseline(name)\n",
    "        success_rate = 1 - errors\n",
    "        writer.writerow({'Test Name': name, 'Success Rate': success_rate, \n",
    "                         'false +': false_pos, 'false -': false_neg})\n",
    "        "
   ]
  },
  {
   "cell_type": "code",
   "execution_count": 22,
   "metadata": {},
   "outputs": [
    {
     "name": "stderr",
     "output_type": "stream",
     "text": [
      "c:\\program files\\python36\\lib\\site-packages\\sklearn\\linear_model\\stochastic_gradient.py:128: FutureWarning: max_iter and tol parameters have been added in <class 'sklearn.linear_model.stochastic_gradient.SGDClassifier'> in 0.19. If both are left unset, they default to max_iter=5 and tol=None. If tol is not None, max_iter defaults to max_iter=1000. From 0.21, default max_iter will be 1000, and default tol will be 1e-3.\n",
      "  \"and default tol will be 1e-3.\" % type(self), FutureWarning)\n",
      "c:\\program files\\python36\\lib\\site-packages\\sklearn\\utils\\validation.py:578: DataConversionWarning: A column-vector y was passed when a 1d array was expected. Please change the shape of y to (n_samples, ), for example using ravel().\n",
      "  y = column_or_1d(y, warn=True)\n"
     ]
    }
   ],
   "source": [
    "def length_only(filename):\n",
    "    with open(filename, 'rb') as pfile:\n",
    "        train, test = pickle.load(pfile)\n",
    "    # Get length from the dict! Word count and sentence count\n",
    "    directory_name = filename.split('.p')[0]\n",
    "    with open(directory_name + \"/tokenized_dict.p\", 'rb') as pfile:\n",
    "        train_token_dict, test_token_dict = pickle.load(pfile)\n",
    "    train_length = len(train.index.values)\n",
    "    train_regressors = np.empty([train_length, 4])\n",
    "    test_length = len(test.index.values)\n",
    "    test_regressors = np.empty([test_length, 4])\n",
    "    for i in range(train_length):\n",
    "        index = train.index.values[i]\n",
    "        row = train_token_dict[index]\n",
    "        train_regressors[i] = [row[0].word_count, row[0].sent_count, row[1].word_count, row[1].sent_count]\n",
    "    for i in range(test_length):\n",
    "        index = test.index.values[i]\n",
    "        row = test_token_dict[index]\n",
    "        test_regressors[i] = [row[0].word_count, row[0].sent_count, row[1].word_count, row[1].sent_count]\n",
    "    test_targets = test['answer_good'].values.reshape(-1, 1)\n",
    "    train_targets = train['answer_good'].values.reshape(-1, 1)\n",
    "    return error_rate(train_targets, train_regressors, test_targets, test_regressors)\n",
    "\n",
    "with open('length_only_results.csv', 'w+', newline=\"\") as csvfile:\n",
    "    fieldnames = ['Test Name', 'Success Rate', 'false +', 'false -']\n",
    "    writer = csv.DictWriter(csvfile, fieldnames=fieldnames)\n",
    "    writer.writeheader()\n",
    "    for name in filenames:\n",
    "        errors, false_pos, false_neg = length_only(name)\n",
    "        success_rate = 1 - errors\n",
    "        writer.writerow({'Test Name': name, 'Success Rate': success_rate, \n",
    "                         'false +': false_pos, 'false -': false_neg})"
   ]
  },
  {
   "cell_type": "code",
   "execution_count": null,
   "metadata": {},
   "outputs": [],
   "source": [
    "def words_and_length(filename):\n",
    "    with open(filename, 'rb') as pfile:\n",
    "        train, test = pickle.load(pfile)\n",
    "    # Get length from the dict! Word count and sentence count\n",
    "    train_regressors = []\n",
    "    test_regressors = []\n",
    "    directory_name = filename.split('.p')[0]\n",
    "    with open(directory_name + \"/tokenized_dict.p\", 'rb') as pfile:\n",
    "        train_token_dict, test_token_dict = pickle.load(pfile)\n",
    "    with open(directory_name + \"/body_vectorizer.p\", 'rb') as pfile:\n",
    "        body_vectorizer = pickle.load(pfile) \n",
    "    with open(directory_name + \"/title_vectorizer.p\", 'rb') as pfile:\n",
    "        title_vectorizer = pickle.load(pfile)   \n",
    "    for i in train.index.values:\n",
    "        row = train_token_dict[i]\n",
    "        title_words = row[0].words\n",
    "        body_words = row[1].words\n",
    "        title_vectorization = title_vectorizer.transform(title_words)\n",
    "        body_vectorization = body_vectorizer.transform(body_words)\n",
    "        # Append the vectorization of the word input\n",
    "        train_regressors.append((title_vectorization, body_vectorization, \n",
    "                                 row[0].word_count, row[0].sent_count, row[1].word_count, row[1].sent_count))\n",
    "    train_targets = train['answer_good'].values\n",
    "    test_targets = test['answer_good'].values\n",
    "    for i in test.index.values:\n",
    "        row = test_token_dict[i]\n",
    "        title_words = row[0].words\n",
    "        body_words = row[1].words\n",
    "        title_vectorization = title_vectorizer.transform(title_words)\n",
    "        body_vectorization = body_vectorizer.transform(body_words)\n",
    "        # Append the vectorization of the word input\n",
    "        test_regressors.append((title_vectorization, body_vectorization,\n",
    "                               row[0].word_count, row[0].sent_count, row[1].word_count, row[1].sent_count))\n",
    "    return error_rate(train_targets, train_regressors, test_targets, test_regressors)\n",
    "\n",
    "with open('words_and_length_results.csv', 'w+', newline=\"\") as csvfile:\n",
    "    fieldnames = ['Test Name', 'Success Rate', 'false +', 'false -']\n",
    "    writer = csv.DictWriter(csvfile, fieldnames=fieldnames)\n",
    "    writer.writeheader()\n",
    "    for name in filenames:\n",
    "        errors, false_pos, false_neg = words_and_length(name)\n",
    "        success_rate = 1 - errors\n",
    "        writer.writerow({'Test Name': name, 'Success Rate': success_rate, \n",
    "                         'false +': false_pos, 'false -': false_neg})\n"
   ]
  },
  {
   "cell_type": "code",
   "execution_count": null,
   "metadata": {},
   "outputs": [],
   "source": []
  }
 ],
 "metadata": {
  "kernelspec": {
   "display_name": "Python 3",
   "language": "python",
   "name": "python3"
  },
  "language_info": {
   "codemirror_mode": {
    "name": "ipython",
    "version": 3
   },
   "file_extension": ".py",
   "mimetype": "text/x-python",
   "name": "python",
   "nbconvert_exporter": "python",
   "pygments_lexer": "ipython3",
   "version": "3.6.4"
  }
 },
 "nbformat": 4,
 "nbformat_minor": 2
}
