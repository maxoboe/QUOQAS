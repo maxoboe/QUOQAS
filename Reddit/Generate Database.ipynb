{
 "cells": [
  {
   "cell_type": "code",
   "execution_count": 11,
   "metadata": {},
   "outputs": [],
   "source": [
    "# Use sqlite file for output\n",
    "import sqlite3\n",
    "import pandas\n",
    "con = sqlite3.connect('Reddit_quality.db')\n",
    "cur = con.cursor()"
   ]
  },
  {
   "cell_type": "code",
   "execution_count": 12,
   "metadata": {},
   "outputs": [],
   "source": [
    "cur.execute(\"drop table if exists data;\")\n",
    "cur.execute(\n",
    "\"create table data( \\\n",
    "    AnswerCount int, \\\n",
    "    Score int, \\\n",
    "    AnswerRatio float \\\n",
    ");\")\n",
    "import csv\n",
    "with open('all_submissions.csv','r', encoding='utf-8') as infile:\n",
    "    reader = csv.DictReader(infile)\n",
    "    counter = 0\n",
    "    to_db = []\n",
    "    for row in reader:\n",
    "        title = row['title'].lower()\n",
    "        if '[removed]' in title or '[deleted]' in title: continue\n",
    "        selftext = row['selftext'].lower()\n",
    "        if '[removed]' in selftext or '[deleted]' in selftext: continue\n",
    "        Score = int(row['ups']) - int(row['downs'])\n",
    "        AnswerCount = int(row['comments'])\n",
    "        AnswerRatio = float(Score) / AnswerCount if AnswerCount > 0 else None\n",
    "        to_db.append((AnswerCount, Score, AnswerRatio))\n",
    "    cur.executemany(\"insert into data (AnswerCount, Score, AnswerRatio) VALUES (?, ?, ?);\", to_db)"
   ]
  },
  {
   "cell_type": "code",
   "execution_count": 13,
   "metadata": {},
   "outputs": [],
   "source": [
    "import numpy\n",
    "AnswerRatioTable_NonNegScores = pandas.read_sql('select AnswerRatio from data where Score >= 0 AND AnswerRatio is NOT NULL', con)\n",
    "Avg_AnswerRatioTable_NonNegScores = numpy.average(AnswerRatioTable_NonNegScores.values)\n",
    "con.commit()\n",
    "con.close()"
   ]
  },
  {
   "cell_type": "code",
   "execution_count": 15,
   "metadata": {},
   "outputs": [
    {
     "name": "stdout",
     "output_type": "stream",
     "text": [
      "   AnswerCount  Score  AnswerRatio Body  \\\n",
      "0            5      2          0.4        \n",
      "1            1      0          0.0        \n",
      "2           20      0          0.0        \n",
      "3            1      2          2.0        \n",
      "4            1     -2         -2.0        \n",
      "\n",
      "                                               Title  answer_good  answer_bad  \n",
      "0  askscience:  by what mechanism do waterfalls p...            0           0  \n",
      "1  askscience: do you think principles of quantum...            0           1  \n",
      "2  asksciencereddit: if an ice cube floated aroun...            0           1  \n",
      "3  askscience:pepper+ginger in hot water for sore...            1           0  \n",
      "4  askscience: i'm in the brainstorming stage of ...            0           1  \n"
     ]
    }
   ],
   "source": [
    "# Make new database for training and testing\n",
    "con = sqlite3.connect('Reddit.db')\n",
    "cur = con.cursor()\n",
    "cur.execute(\"DROP TABLE IF EXISTS data;\")\n",
    "cur.execute(\n",
    "\"create table data( \\\n",
    "    AnswerCount int, \\\n",
    "    Score int, \\\n",
    "    AnswerRatio float, \\\n",
    "    Body varchar, \\\n",
    "    Title varchar, \\\n",
    "    answer_good int, \\\n",
    "    answer_bad int \\\n",
    ");\")\n",
    "import csv\n",
    "with open('all_submissions.csv','r', encoding='utf-8') as infile:\n",
    "    reader = csv.DictReader(infile)\n",
    "    to_db = []\n",
    "    for row in reader:\n",
    "        title = row['title'].lower()\n",
    "        if '[removed]' in title or '[deleted]' in title: continue\n",
    "        selftext = row['selftext'].lower()\n",
    "        if '[removed]' in selftext or '[deleted]' in selftext: continue\n",
    "        Score = int(row['ups']) - int(row['downs'])\n",
    "        AnswerCount = int(row['comments'])\n",
    "        AnswerRatio = float(Score) / AnswerCount if AnswerCount > 0 else None\n",
    "        answer_good = AnswerCount > 0 and AnswerRatio > Avg_AnswerRatioTable_NonNegScores\n",
    "        answer_bad = AnswerCount > 0 and Score <= 0\n",
    "        to_db.append((AnswerCount, Score, AnswerRatio, selftext, title, int(answer_good), int(answer_bad)))\n",
    "    cur.executemany(\"insert into data (AnswerCount, Score, AnswerRatio, Body, Title, answer_good, answer_bad) \\\n",
    "                    VALUES (?, ?, ?, ?, ?, ?, ?);\", to_db)\n",
    "\n",
    "print(pandas.read_sql('select * from data limit 5', con))\n",
    "con.commit()\n",
    "con.close()"
   ]
  },
  {
   "cell_type": "code",
   "execution_count": 20,
   "metadata": {},
   "outputs": [
    {
     "name": "stdout",
     "output_type": "stream",
     "text": [
      "(468216, 0, 0)\n",
      "(42397, 0, 1)\n",
      "(67115, 1, 0)\n"
     ]
    }
   ],
   "source": [
    "con = sqlite3.connect('Reddit.db')\n",
    "cur = con.cursor()\n",
    "count_by_category = []\n",
    "for row in cur.execute('SELECT count(*), answer_good, answer_bad from data group by answer_good, answer_bad'):\n",
    "    count_by_category.append(row[0])\n",
    "    print(row)\n",
    "# Print percentage where answergood is 1, answerbad is 0\n",
    "# Print percentage where answergood is 0, answerbad is 1\n",
    "# Print percentage where answergood is 0, answerbad is 0\n",
    "# Does all_submissions already remove duplicates? Seems too high..."
   ]
  },
  {
   "cell_type": "code",
   "execution_count": 22,
   "metadata": {},
   "outputs": [
    {
     "name": "stdout",
     "output_type": "stream",
     "text": [
      "Percent good: 0.11617058546582475\n",
      "Percent bad: 0.07338574554115432\n",
      "Percent unmarked: 0.8104436689930209\n"
     ]
    }
   ],
   "source": [
    "total_count = sum(count_by_category)\n",
    "print('Percent good: ' + str(count_by_category[2] / total_count))\n",
    "print('Percent bad: ' + str(count_by_category[1] / total_count))\n",
    "print('Percent unmarked: ' + str(count_by_category[0] / total_count))"
   ]
  },
  {
   "cell_type": "code",
   "execution_count": null,
   "metadata": {},
   "outputs": [],
   "source": []
  }
 ],
 "metadata": {
  "kernelspec": {
   "display_name": "Python 3",
   "language": "python",
   "name": "python3"
  },
  "language_info": {
   "codemirror_mode": {
    "name": "ipython",
    "version": 3
   },
   "file_extension": ".py",
   "mimetype": "text/x-python",
   "name": "python",
   "nbconvert_exporter": "python",
   "pygments_lexer": "ipython3",
   "version": "3.6.4"
  }
 },
 "nbformat": 4,
 "nbformat_minor": 2
}
