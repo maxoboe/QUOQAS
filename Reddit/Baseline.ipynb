{
 "cells": [
  {
   "cell_type": "code",
   "execution_count": 6,
   "metadata": {},
   "outputs": [],
   "source": [
    "import pickle\n",
    "with open('answer_data.p', 'rb') as pfile:\n",
    "    answer_train, answer_test = pickle.load(pfile)"
   ]
  },
  {
   "cell_type": "code",
   "execution_count": 7,
   "metadata": {},
   "outputs": [],
   "source": [
    "answer_train_targets = answer_train['answer_good'].values\n",
    "answer_train_regressors = answer_train['AnswerCount'].values"
   ]
  },
  {
   "cell_type": "code",
   "execution_count": 8,
   "metadata": {},
   "outputs": [],
   "source": [
    "answer_test_targets = answer_test['answer_good'].values\n",
    "answer_test_regressors = answer_test['AnswerCount'].values"
   ]
  },
  {
   "cell_type": "code",
   "execution_count": 9,
   "metadata": {},
   "outputs": [],
   "source": [
    "import statsmodels.api as sm\n",
    "import numpy as np\n",
    "def train_predictor(train_targets, train_regressors):\n",
    "    logit = sm.Logit(train_targets, train_regressors)\n",
    "    predictor = logit.fit(disp=0)\n",
    "    return predictor\n",
    "\n",
    "def error_rate(train_targets, train_regressors, test_targets, test_regressors):\n",
    "    train_regressors = sm.add_constant(train_regressors)\n",
    "    predictor = train_predictor(train_targets, train_regressors)\n",
    "    test_regressors = sm.add_constant(test_regressors)\n",
    "    test_predictions = predictor.predict(test_regressors)\n",
    "    rounded_predictions = np.rint(test_predictions)\n",
    "    false_pos = 0\n",
    "    false_neg = 0\n",
    "    for i in range(len(rounded_predictions)):\n",
    "        if rounded_predictions[i] == 1 and test_targets[i] == 0: false_pos += 1\n",
    "        if rounded_predictions[i] == 0 and test_targets[i] == 1: false_neg += 1\n",
    "    errors = false_pos + false_neg\n",
    "    corrects = len(rounded_predictions) - errors\n",
    "    error_rate = float(errors) / len(test_predictions)\n",
    "    return (error_rate, false_pos, false_neg)\n"
   ]
  },
  {
   "cell_type": "code",
   "execution_count": 10,
   "metadata": {},
   "outputs": [
    {
     "name": "stdout",
     "output_type": "stream",
     "text": [
      "0.3965846640092459\n",
      "3762\n",
      "13052\n"
     ]
    }
   ],
   "source": [
    "err, false_pos, false_neg = error_rate(answer_train_targets, answer_train_regressors, \n",
    "                                       answer_test_targets, answer_test_regressors)\n",
    "print(err)\n",
    "print(false_pos)\n",
    "print(false_neg)"
   ]
  },
  {
   "cell_type": "code",
   "execution_count": null,
   "metadata": {},
   "outputs": [],
   "source": []
  }
 ],
 "metadata": {
  "kernelspec": {
   "display_name": "Python 3",
   "language": "python",
   "name": "python3"
  },
  "language_info": {
   "codemirror_mode": {
    "name": "ipython",
    "version": 3
   },
   "file_extension": ".py",
   "mimetype": "text/x-python",
   "name": "python",
   "nbconvert_exporter": "python",
   "pygments_lexer": "ipython3",
   "version": "3.6.4"
  }
 },
 "nbformat": 4,
 "nbformat_minor": 2
}
