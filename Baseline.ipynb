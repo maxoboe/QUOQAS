{
 "cells": [
  {
   "cell_type": "code",
   "execution_count": 4,
   "metadata": {},
   "outputs": [],
   "source": [
    "import pickle\n",
    "import statsmodels.api as sm\n",
    "import numpy as np\n",
    "def train_predictor(train_targets, train_regressors):\n",
    "    logit = sm.Logit(train_targets, train_regressors)\n",
    "    predictor = logit.fit(disp=0)\n",
    "    return predictor\n",
    "\n",
    "def error_rate(train_targets, train_regressors, test_targets, test_regressors):\n",
    "    train_regressors = sm.add_constant(train_regressors)\n",
    "    predictor = train_predictor(train_targets, train_regressors)\n",
    "    test_regressors = sm.add_constant(test_regressors)\n",
    "    test_predictions = predictor.predict(test_regressors)\n",
    "    rounded_predictions = np.rint(test_predictions)\n",
    "    false_pos = 0\n",
    "    false_neg = 0\n",
    "    for i in range(len(rounded_predictions)):\n",
    "        if rounded_predictions[i] == 1 and test_targets[i] == 0: false_pos += 1\n",
    "        if rounded_predictions[i] == 0 and test_targets[i] == 1: false_neg += 1\n",
    "    errors = false_pos + false_neg\n",
    "    corrects = len(rounded_predictions) - errors\n",
    "    error_rate = float(errors) / len(test_predictions)\n",
    "    return (error_rate, false_pos, false_neg)\n"
   ]
  },
  {
   "cell_type": "code",
   "execution_count": 34,
   "metadata": {},
   "outputs": [],
   "source": [
    "import pickle\n",
    "import csv\n",
    "\n",
    "def baseline(filename):\n",
    "    with open(filename, 'rb') as pfile:\n",
    "        train, test = pickle.load(pfile)\n",
    "    train_targets = train['answer_good'].values\n",
    "    train_regressors = train['AnswerCount'].values\n",
    "    test_targets = test['answer_good'].values\n",
    "    test_regressors = test['AnswerCount'].values\n",
    "    return error_rate(train_targets, train_regressors, test_targets, test_regressors)\n",
    "\n",
    "filenames = ['combined_train_test.p', 'r_train_so_test.p', 'so_train_r_test.p',\n",
    "            'so_alone.p', 'reddit_alone.p']\n",
    "\n",
    "with open('baseline_results.csv', 'w+', newline=\"\") as csvfile:\n",
    "    fieldnames = ['Test Name', 'Success Rate', 'false +', 'false -']\n",
    "    writer = csv.DictWriter(csvfile, fieldnames=fieldnames)\n",
    "    writer.writeheader()\n",
    "    for name in filenames:\n",
    "        errors, false_pos, false_neg = baseline(name)\n",
    "        success_rate = 1 - errors\n",
    "        writer.writerow({'Test Name': name, 'Success Rate': success_rate, \n",
    "                         'false +': false_pos, 'false -': false_neg})\n",
    "        "
   ]
  },
  {
   "cell_type": "code",
   "execution_count": 33,
   "metadata": {},
   "outputs": [
    {
     "name": "stdout",
     "output_type": "stream",
     "text": [
      "3060      3060\n",
      "14920    14920\n",
      "5906      5906\n",
      "416        416\n",
      "9063      9063\n",
      "37719    37719\n",
      "10127    10127\n",
      "2709      2709\n",
      "6285      6285\n",
      "19720    19720\n",
      "16030    16030\n",
      "7619      7619\n",
      "10225    10225\n",
      "3481      3481\n",
      "22764    22764\n",
      "40947    40947\n",
      "62244    62244\n",
      "54079    54079\n",
      "7858      7858\n",
      "8664      8664\n",
      "11481    11481\n",
      "10578    10578\n",
      "38016    38016\n",
      "5549      5549\n",
      "16164    16164\n",
      "404        404\n",
      "39709    39709\n",
      "4532      4532\n",
      "8677      8677\n",
      "1954      1954\n",
      "         ...  \n",
      "25422    25422\n",
      "37879    37879\n",
      "46972    46972\n",
      "47155    47155\n",
      "50259    50259\n",
      "43531    43531\n",
      "6117      6117\n",
      "36256    36256\n",
      "9614      9614\n",
      "24227    24227\n",
      "64263    64263\n",
      "2638      2638\n",
      "12727    12727\n",
      "64386    64386\n",
      "3976      3976\n",
      "9862      9862\n",
      "45161    45161\n",
      "3404      3404\n",
      "12075    12075\n",
      "36446    36446\n",
      "4460      4460\n",
      "2638      2638\n",
      "1748      1748\n",
      "7667      7667\n",
      "40570    40570\n",
      "47370    47370\n",
      "2144      2144\n",
      "13158    13158\n",
      "209        209\n",
      "5442      5442\n",
      "Name: index, Length: 37582, dtype: int64\n"
     ]
    }
   ],
   "source": [
    "with open('combined_train_test.p', 'rb') as pfile:\n",
    "    train, test = pickle.load(pfile)\n",
    "print(train['index'])\n"
   ]
  },
  {
   "cell_type": "code",
   "execution_count": 29,
   "metadata": {},
   "outputs": [
    {
     "name": "stdout",
     "output_type": "stream",
     "text": [
      "[1 4.0\n",
      " '<p>what specific behaviour confirmed the existence of the w and z bosons at the ua1 and ua2 experiments?</p>\\n\\n<p>thanks!</p>\\n'\n",
      " 'physics' 4 'detection of w and z bosons' 879.0 0.004550625711035267 0 1\n",
      " 9840.0 0.0 1.0]\n"
     ]
    }
   ],
   "source": [
    "print(train.values[0])"
   ]
  },
  {
   "cell_type": "code",
   "execution_count": null,
   "metadata": {},
   "outputs": [],
   "source": []
  }
 ],
 "metadata": {
  "kernelspec": {
   "display_name": "Python 3",
   "language": "python",
   "name": "python3"
  },
  "language_info": {
   "codemirror_mode": {
    "name": "ipython",
    "version": 3
   },
   "file_extension": ".py",
   "mimetype": "text/x-python",
   "name": "python",
   "nbconvert_exporter": "python",
   "pygments_lexer": "ipython3",
   "version": "3.6.4"
  }
 },
 "nbformat": 4,
 "nbformat_minor": 2
}
