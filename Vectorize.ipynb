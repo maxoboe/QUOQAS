{
 "cells": [
  {
   "cell_type": "code",
   "execution_count": 1,
   "metadata": {},
   "outputs": [],
   "source": [
    "import nltk.tokenize as tk\n",
    "def word_tokenize(text):\n",
    "    words = tk.word_tokenize(text)\n",
    "    return len(words), words"
   ]
  },
  {
   "cell_type": "code",
   "execution_count": 2,
   "metadata": {},
   "outputs": [],
   "source": [
    "# Call on concatenation of body and title\n",
    "from collections import namedtuple\n",
    "tokenized_row = namedtuple('tokenized_row', 'sent_count sentences word_count words')"
   ]
  },
  {
   "cell_type": "code",
   "execution_count": 3,
   "metadata": {},
   "outputs": [
    {
     "name": "stderr",
     "output_type": "stream",
     "text": [
      "c:\\program files\\python36\\lib\\site-packages\\gensim\\utils.py:1197: UserWarning: detected Windows; aliasing chunkize to chunkize_serial\n",
      "  warnings.warn(\"detected Windows; aliasing chunkize to chunkize_serial\")\n"
     ]
    }
   ],
   "source": [
    "from gensim.models.doc2vec import Doc2Vec\n",
    "import multiprocessing\n",
    "from collections import namedtuple\n",
    "\n",
    "Document = namedtuple('ScoreDocument', 'words tags')\n",
    "\n",
    "filenames = ['combined_train_test.p', 'r_train_so_test.p', 'so_train_r_test.p',\n",
    "            'so_alone.p', 'reddit_alone.p']\n",
    "cores = multiprocessing.cpu_count()"
   ]
  },
  {
   "cell_type": "code",
   "execution_count": 23,
   "metadata": {},
   "outputs": [
    {
     "name": "stderr",
     "output_type": "stream",
     "text": [
      "c:\\program files\\python36\\lib\\site-packages\\gensim\\models\\doc2vec.py:366: UserWarning: The parameter `size` is deprecated, will be removed in 4.0.0, use `vector_size` instead.\n",
      "  warnings.warn(\"The parameter `size` is deprecated, will be removed in 4.0.0, use `vector_size` instead.\")\n"
     ]
    }
   ],
   "source": [
    "import pickle\n",
    "def import_dict(token_dict, titles, bodies, title_sentences, body_sentences):\n",
    "    for index in token_dict:\n",
    "        title, body = token_dict[index]\n",
    "        titles.append(Document(title.words, tags=[index]))\n",
    "        bodies.append(Document(body.words, tags=[index]))\n",
    "        count = 0\n",
    "        for sentence in title.sentences:\n",
    "            title_sentences.append(Document(word_tokenize(sentence)[1], tags=[str(index) + '_' +str(count)]))\n",
    "            count += 1\n",
    "        count = 0\n",
    "        for sentence in body.sentences:\n",
    "            body_sentences.append(Document(word_tokenize(sentence)[1], tags=[str(index) + '_' +str(count)]))\n",
    "            count += 1\n",
    "    return titles, bodies, title_sentences, body_sentences\n",
    "\n",
    "for filename in filenames:\n",
    "    directory_name = filename.split('.p')[0]\n",
    "    with open(directory_name + \"/tokenized_dict.p\", 'rb') as pfile:\n",
    "        train_token_dict, test_token_dict = pickle.load(pfile)\n",
    "    titles = []\n",
    "    title_sentences = []\n",
    "    bodies = []\n",
    "    body_sentences = []\n",
    "    titles, bodies, title_sentences, body_sentences = import_dict(train_token_dict, titles, bodies, title_sentences, body_sentences)\n",
    "    titles, bodies, title_sentences, body_sentences = import_dict(test_token_dict, titles, bodies, title_sentences, body_sentences) \n",
    "\n",
    "    model = Doc2Vec(titles, size=100, workers=cores, window=8, min_count=5)\n",
    "    model.save(directory_name + '/titles.doc2vec')\n",
    "    model = Doc2Vec(bodies, size=100, workers=cores, window=8, min_count=5)\n",
    "    model.save(directory_name + '/bodies.doc2vec')\n",
    "    model = Doc2Vec(body_sentences, size=100, workers=cores, window=8, min_count=5)\n",
    "    model.save(directory_name + '/body_sentences.doc2vec')\n",
    "    model = Doc2Vec(title_sentences, size=100, workers=cores, window=8, min_count=5)\n",
    "    model.save(directory_name + '/title_sentences.doc2vec')"
   ]
  },
  {
   "cell_type": "code",
   "execution_count": null,
   "metadata": {},
   "outputs": [],
   "source": []
  }
 ],
 "metadata": {
  "kernelspec": {
   "display_name": "Python 3",
   "language": "python",
   "name": "python3"
  },
  "language_info": {
   "codemirror_mode": {
    "name": "ipython",
    "version": 3
   },
   "file_extension": ".py",
   "mimetype": "text/x-python",
   "name": "python",
   "nbconvert_exporter": "python",
   "pygments_lexer": "ipython3",
   "version": "3.6.4"
  }
 },
 "nbformat": 4,
 "nbformat_minor": 2
}
